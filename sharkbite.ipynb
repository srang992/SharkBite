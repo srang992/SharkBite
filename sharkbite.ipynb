{
 "cells": [
  {
   "cell_type": "code",
   "execution_count": 1,
   "metadata": {
    "collapsed": true,
    "pycharm": {
     "name": "#%%\n"
    }
   },
   "outputs": [],
   "source": [
    "import pandas as pd\n",
    "import matplotlib.pyplot as plt\n",
    "import seaborn as sns\n",
    "import warnings\n",
    "\n",
    "warnings.filterwarnings('ignore')"
   ]
  },
  {
   "cell_type": "code",
   "execution_count": 2,
   "outputs": [
    {
     "data": {
      "text/plain": "    UIN  Incident.month  Incident.year Victim.injury State  \\\n0     1               1           1791         fatal   NSW   \n1     2               3           1803       injured    WA   \n2     3               1           1807       injured   NSW   \n3     4               1           1820         fatal   TAS   \n4     5               1           1825       injured   NSW   \n5     6               1           1830       injured   TAS   \n6     7               1           1832       injured   NSW   \n7     8               6           1832       injured   NSW   \n8     9               1           1836       injured    SA   \n9    10               8           1836         fatal   QLD   \n10   11               8           1836         fatal   QLD   \n11   12               1           1837         fatal   NSW   \n12   13               8           1839         fatal   VIC   \n13   14              12           1840         fatal   NSW   \n14   15               4           1841         fatal   NSW   \n15   16               3           1847       injured   QLD   \n16   17              11           1847       injured   QLD   \n17   18               1           1849         fatal    WA   \n18   19              12           1849       injured   VIC   \n19   20              12           1849         fatal   NSW   \n\n                                  Location   Latitude   Longitude  \\\n0                              near sydney -33.866667  151.200000   \n1                hamelin bay, faure island -25.833333  113.883333   \n2               cockle bay, sydney harbour -33.866667  151.200000   \n3             sweetwater point, pitt water      -42.8  147.533333   \n4          kirribili point, sydney harbour     -33.85  151.216667   \n5                             bruny island -43.283333  147.333333   \n6   blackwattle bay, glebe, sydney harbour -33.866667  151.183333   \n7               south head, sydney harbour -33.833333  151.266667   \n8                             holdfast bay     -34.95  138.500000   \n9                            fraser island -25.483333  152.983333   \n10                           fraser island -25.483333  152.983333   \n11                           macleay river -30.933333  153.016667   \n12      sealer's cove, wilson's promontory -38.983333  146.450000   \n13        wooloomooloo bay, sydney harbour     -33.85  151.216667   \n14         cockatoo island, sydney harbour -33.833333  151.166667   \n15                             moreton bay     -27.25  153.250000   \n16                          brisbane river -27.433333  153.083333   \n17                    quindalup, busselton -33.366667  115.283333   \n18                                portland -38.333333  141.600000   \n19       woolloomooloo bay, sydney harbour -33.816667  151.200000   \n\n        Site.category Site.category.comment  ... Spring.or.neap.tide  \\\n0             coastal                   NaN  ...                 NaN   \n1             coastal                   NaN  ...                 NaN   \n2     estuary/harbour                   NaN  ...                 NaN   \n3             coastal                   NaN  ...                 NaN   \n4     estuary/harbour                   NaN  ...                 NaN   \n5   island open ocean                   NaN  ...                 NaN   \n6     estuary/harbour                   NaN  ...                 NaN   \n7             coastal                   NaN  ...                 NaN   \n8             coastal                   NaN  ...                 NaN   \n9             coastal                   NaN  ...                 NaN   \n10            coastal                   NaN  ...                 NaN   \n11              river                   NaN  ...                 NaN   \n12            coastal                   NaN  ...                 NaN   \n13    estuary/harbour                   NaN  ...                 NaN   \n14    estuary/harbour                   NaN  ...                 NaN   \n15            coastal                   NaN  ...                 NaN   \n16              river                   NaN  ...                 NaN   \n17      ocean/pelagic                   NaN  ...                 NaN   \n18            coastal                   NaN  ...                 NaN   \n19    estuary/harbour                   NaN  ...                 NaN   \n\n   Tidal.cycle Wind.condition Weather.condition  Air.temperature.°C  \\\n0          NaN            NaN               NaN                 NaN   \n1          NaN            NaN               NaN                 NaN   \n2          NaN            NaN               NaN                 NaN   \n3          NaN            NaN               NaN                 NaN   \n4          NaN            NaN               NaN                 NaN   \n5          NaN            NaN               NaN                 NaN   \n6          NaN            NaN               NaN                 NaN   \n7          NaN            NaN               NaN                 NaN   \n8          NaN            NaN               NaN                 NaN   \n9          NaN            NaN               NaN                 NaN   \n10         NaN            NaN               NaN                 NaN   \n11         NaN            NaN               NaN                 NaN   \n12         NaN            NaN               NaN                 NaN   \n13         NaN            NaN               NaN                 NaN   \n14         NaN            NaN               NaN                 NaN   \n15         NaN            NaN               NaN                 NaN   \n16         NaN            NaN               NaN                 NaN   \n17         NaN            NaN               NaN                 NaN   \n18         NaN            NaN               NaN                 NaN   \n19         NaN            NaN               NaN                 NaN   \n\n   Personal.protective.device Deterrent.brand.and.type      Data.source  \\\n0                         NaN                      NaN             book   \n1                         NaN                      NaN             book   \n2                         NaN                      NaN     media outlet   \n3                         NaN                      NaN  witness account   \n4                         NaN                      NaN     media outlet   \n5                         NaN                      NaN     media outlet   \n6                         NaN                      NaN     media outlet   \n7                         NaN                      NaN     media outlet   \n8                         NaN                      NaN             book   \n9                         NaN                      NaN             book   \n10                        NaN                      NaN             book   \n11                        NaN                      NaN     media outlet   \n12                        NaN                      NaN     media outlet   \n13                        NaN                      NaN     media outlet   \n14                        NaN                      NaN     media outlet   \n15                        NaN                      NaN     media outlet   \n16                        NaN                      NaN     media outlet   \n17                        NaN                      NaN     media outlet   \n18                        NaN                      NaN     media outlet   \n19                        NaN                      NaN     media outlet   \n\n                                            Reference Unnamed: 59  \n0            shark&survl, whitley 1958, book ref 1793         NaN  \n1                 balgridge,green,taylor,whitley 1940         NaN  \n2                            sydney gazette 18.1.1807         NaN  \n3                    shark&survl, c. black researcher         NaN  \n4                   maitland daily mercury 13.11.1899         NaN  \n5                                the mercury 7.3.1923         NaN  \n6                                       smh 23.1.1832         NaN  \n7                             sydney herald 11.6.1832         NaN  \n8                                    sharpe     date?         NaN  \n9                             shipwrecks, evan mchugh         NaN  \n10                            shipwrecks, evan mchugh         NaN  \n11          green,baldridge, colonial times 14.2.1837         NaN  \n12                           colonial times 20.8.1839         NaN  \n13                              cairns post 13.2.1919         NaN  \n14                        the sydney herald 27.4.1841         NaN  \n15    green, whitley 1958, the queenslander 12.3.1921         NaN  \n16  morton bay courrier 4.12.1847, maitland mercur...         NaN  \n17                            bunbury herald 7.6.1849         NaN  \n18                        portland guardian 1.12.1874         NaN  \n19                                      smh 3.12.1849         NaN  \n\n[20 rows x 60 columns]",
      "text/html": "<div>\n<style scoped>\n    .dataframe tbody tr th:only-of-type {\n        vertical-align: middle;\n    }\n\n    .dataframe tbody tr th {\n        vertical-align: top;\n    }\n\n    .dataframe thead th {\n        text-align: right;\n    }\n</style>\n<table border=\"1\" class=\"dataframe\">\n  <thead>\n    <tr style=\"text-align: right;\">\n      <th></th>\n      <th>UIN</th>\n      <th>Incident.month</th>\n      <th>Incident.year</th>\n      <th>Victim.injury</th>\n      <th>State</th>\n      <th>Location</th>\n      <th>Latitude</th>\n      <th>Longitude</th>\n      <th>Site.category</th>\n      <th>Site.category.comment</th>\n      <th>...</th>\n      <th>Spring.or.neap.tide</th>\n      <th>Tidal.cycle</th>\n      <th>Wind.condition</th>\n      <th>Weather.condition</th>\n      <th>Air.temperature.°C</th>\n      <th>Personal.protective.device</th>\n      <th>Deterrent.brand.and.type</th>\n      <th>Data.source</th>\n      <th>Reference</th>\n      <th>Unnamed: 59</th>\n    </tr>\n  </thead>\n  <tbody>\n    <tr>\n      <th>0</th>\n      <td>1</td>\n      <td>1</td>\n      <td>1791</td>\n      <td>fatal</td>\n      <td>NSW</td>\n      <td>near sydney</td>\n      <td>-33.866667</td>\n      <td>151.200000</td>\n      <td>coastal</td>\n      <td>NaN</td>\n      <td>...</td>\n      <td>NaN</td>\n      <td>NaN</td>\n      <td>NaN</td>\n      <td>NaN</td>\n      <td>NaN</td>\n      <td>NaN</td>\n      <td>NaN</td>\n      <td>book</td>\n      <td>shark&amp;survl, whitley 1958, book ref 1793</td>\n      <td>NaN</td>\n    </tr>\n    <tr>\n      <th>1</th>\n      <td>2</td>\n      <td>3</td>\n      <td>1803</td>\n      <td>injured</td>\n      <td>WA</td>\n      <td>hamelin bay, faure island</td>\n      <td>-25.833333</td>\n      <td>113.883333</td>\n      <td>coastal</td>\n      <td>NaN</td>\n      <td>...</td>\n      <td>NaN</td>\n      <td>NaN</td>\n      <td>NaN</td>\n      <td>NaN</td>\n      <td>NaN</td>\n      <td>NaN</td>\n      <td>NaN</td>\n      <td>book</td>\n      <td>balgridge,green,taylor,whitley 1940</td>\n      <td>NaN</td>\n    </tr>\n    <tr>\n      <th>2</th>\n      <td>3</td>\n      <td>1</td>\n      <td>1807</td>\n      <td>injured</td>\n      <td>NSW</td>\n      <td>cockle bay, sydney harbour</td>\n      <td>-33.866667</td>\n      <td>151.200000</td>\n      <td>estuary/harbour</td>\n      <td>NaN</td>\n      <td>...</td>\n      <td>NaN</td>\n      <td>NaN</td>\n      <td>NaN</td>\n      <td>NaN</td>\n      <td>NaN</td>\n      <td>NaN</td>\n      <td>NaN</td>\n      <td>media outlet</td>\n      <td>sydney gazette 18.1.1807</td>\n      <td>NaN</td>\n    </tr>\n    <tr>\n      <th>3</th>\n      <td>4</td>\n      <td>1</td>\n      <td>1820</td>\n      <td>fatal</td>\n      <td>TAS</td>\n      <td>sweetwater point, pitt water</td>\n      <td>-42.8</td>\n      <td>147.533333</td>\n      <td>coastal</td>\n      <td>NaN</td>\n      <td>...</td>\n      <td>NaN</td>\n      <td>NaN</td>\n      <td>NaN</td>\n      <td>NaN</td>\n      <td>NaN</td>\n      <td>NaN</td>\n      <td>NaN</td>\n      <td>witness account</td>\n      <td>shark&amp;survl, c. black researcher</td>\n      <td>NaN</td>\n    </tr>\n    <tr>\n      <th>4</th>\n      <td>5</td>\n      <td>1</td>\n      <td>1825</td>\n      <td>injured</td>\n      <td>NSW</td>\n      <td>kirribili point, sydney harbour</td>\n      <td>-33.85</td>\n      <td>151.216667</td>\n      <td>estuary/harbour</td>\n      <td>NaN</td>\n      <td>...</td>\n      <td>NaN</td>\n      <td>NaN</td>\n      <td>NaN</td>\n      <td>NaN</td>\n      <td>NaN</td>\n      <td>NaN</td>\n      <td>NaN</td>\n      <td>media outlet</td>\n      <td>maitland daily mercury 13.11.1899</td>\n      <td>NaN</td>\n    </tr>\n    <tr>\n      <th>5</th>\n      <td>6</td>\n      <td>1</td>\n      <td>1830</td>\n      <td>injured</td>\n      <td>TAS</td>\n      <td>bruny island</td>\n      <td>-43.283333</td>\n      <td>147.333333</td>\n      <td>island open ocean</td>\n      <td>NaN</td>\n      <td>...</td>\n      <td>NaN</td>\n      <td>NaN</td>\n      <td>NaN</td>\n      <td>NaN</td>\n      <td>NaN</td>\n      <td>NaN</td>\n      <td>NaN</td>\n      <td>media outlet</td>\n      <td>the mercury 7.3.1923</td>\n      <td>NaN</td>\n    </tr>\n    <tr>\n      <th>6</th>\n      <td>7</td>\n      <td>1</td>\n      <td>1832</td>\n      <td>injured</td>\n      <td>NSW</td>\n      <td>blackwattle bay, glebe, sydney harbour</td>\n      <td>-33.866667</td>\n      <td>151.183333</td>\n      <td>estuary/harbour</td>\n      <td>NaN</td>\n      <td>...</td>\n      <td>NaN</td>\n      <td>NaN</td>\n      <td>NaN</td>\n      <td>NaN</td>\n      <td>NaN</td>\n      <td>NaN</td>\n      <td>NaN</td>\n      <td>media outlet</td>\n      <td>smh 23.1.1832</td>\n      <td>NaN</td>\n    </tr>\n    <tr>\n      <th>7</th>\n      <td>8</td>\n      <td>6</td>\n      <td>1832</td>\n      <td>injured</td>\n      <td>NSW</td>\n      <td>south head, sydney harbour</td>\n      <td>-33.833333</td>\n      <td>151.266667</td>\n      <td>coastal</td>\n      <td>NaN</td>\n      <td>...</td>\n      <td>NaN</td>\n      <td>NaN</td>\n      <td>NaN</td>\n      <td>NaN</td>\n      <td>NaN</td>\n      <td>NaN</td>\n      <td>NaN</td>\n      <td>media outlet</td>\n      <td>sydney herald 11.6.1832</td>\n      <td>NaN</td>\n    </tr>\n    <tr>\n      <th>8</th>\n      <td>9</td>\n      <td>1</td>\n      <td>1836</td>\n      <td>injured</td>\n      <td>SA</td>\n      <td>holdfast bay</td>\n      <td>-34.95</td>\n      <td>138.500000</td>\n      <td>coastal</td>\n      <td>NaN</td>\n      <td>...</td>\n      <td>NaN</td>\n      <td>NaN</td>\n      <td>NaN</td>\n      <td>NaN</td>\n      <td>NaN</td>\n      <td>NaN</td>\n      <td>NaN</td>\n      <td>book</td>\n      <td>sharpe     date?</td>\n      <td>NaN</td>\n    </tr>\n    <tr>\n      <th>9</th>\n      <td>10</td>\n      <td>8</td>\n      <td>1836</td>\n      <td>fatal</td>\n      <td>QLD</td>\n      <td>fraser island</td>\n      <td>-25.483333</td>\n      <td>152.983333</td>\n      <td>coastal</td>\n      <td>NaN</td>\n      <td>...</td>\n      <td>NaN</td>\n      <td>NaN</td>\n      <td>NaN</td>\n      <td>NaN</td>\n      <td>NaN</td>\n      <td>NaN</td>\n      <td>NaN</td>\n      <td>book</td>\n      <td>shipwrecks, evan mchugh</td>\n      <td>NaN</td>\n    </tr>\n    <tr>\n      <th>10</th>\n      <td>11</td>\n      <td>8</td>\n      <td>1836</td>\n      <td>fatal</td>\n      <td>QLD</td>\n      <td>fraser island</td>\n      <td>-25.483333</td>\n      <td>152.983333</td>\n      <td>coastal</td>\n      <td>NaN</td>\n      <td>...</td>\n      <td>NaN</td>\n      <td>NaN</td>\n      <td>NaN</td>\n      <td>NaN</td>\n      <td>NaN</td>\n      <td>NaN</td>\n      <td>NaN</td>\n      <td>book</td>\n      <td>shipwrecks, evan mchugh</td>\n      <td>NaN</td>\n    </tr>\n    <tr>\n      <th>11</th>\n      <td>12</td>\n      <td>1</td>\n      <td>1837</td>\n      <td>fatal</td>\n      <td>NSW</td>\n      <td>macleay river</td>\n      <td>-30.933333</td>\n      <td>153.016667</td>\n      <td>river</td>\n      <td>NaN</td>\n      <td>...</td>\n      <td>NaN</td>\n      <td>NaN</td>\n      <td>NaN</td>\n      <td>NaN</td>\n      <td>NaN</td>\n      <td>NaN</td>\n      <td>NaN</td>\n      <td>media outlet</td>\n      <td>green,baldridge, colonial times 14.2.1837</td>\n      <td>NaN</td>\n    </tr>\n    <tr>\n      <th>12</th>\n      <td>13</td>\n      <td>8</td>\n      <td>1839</td>\n      <td>fatal</td>\n      <td>VIC</td>\n      <td>sealer's cove, wilson's promontory</td>\n      <td>-38.983333</td>\n      <td>146.450000</td>\n      <td>coastal</td>\n      <td>NaN</td>\n      <td>...</td>\n      <td>NaN</td>\n      <td>NaN</td>\n      <td>NaN</td>\n      <td>NaN</td>\n      <td>NaN</td>\n      <td>NaN</td>\n      <td>NaN</td>\n      <td>media outlet</td>\n      <td>colonial times 20.8.1839</td>\n      <td>NaN</td>\n    </tr>\n    <tr>\n      <th>13</th>\n      <td>14</td>\n      <td>12</td>\n      <td>1840</td>\n      <td>fatal</td>\n      <td>NSW</td>\n      <td>wooloomooloo bay, sydney harbour</td>\n      <td>-33.85</td>\n      <td>151.216667</td>\n      <td>estuary/harbour</td>\n      <td>NaN</td>\n      <td>...</td>\n      <td>NaN</td>\n      <td>NaN</td>\n      <td>NaN</td>\n      <td>NaN</td>\n      <td>NaN</td>\n      <td>NaN</td>\n      <td>NaN</td>\n      <td>media outlet</td>\n      <td>cairns post 13.2.1919</td>\n      <td>NaN</td>\n    </tr>\n    <tr>\n      <th>14</th>\n      <td>15</td>\n      <td>4</td>\n      <td>1841</td>\n      <td>fatal</td>\n      <td>NSW</td>\n      <td>cockatoo island, sydney harbour</td>\n      <td>-33.833333</td>\n      <td>151.166667</td>\n      <td>estuary/harbour</td>\n      <td>NaN</td>\n      <td>...</td>\n      <td>NaN</td>\n      <td>NaN</td>\n      <td>NaN</td>\n      <td>NaN</td>\n      <td>NaN</td>\n      <td>NaN</td>\n      <td>NaN</td>\n      <td>media outlet</td>\n      <td>the sydney herald 27.4.1841</td>\n      <td>NaN</td>\n    </tr>\n    <tr>\n      <th>15</th>\n      <td>16</td>\n      <td>3</td>\n      <td>1847</td>\n      <td>injured</td>\n      <td>QLD</td>\n      <td>moreton bay</td>\n      <td>-27.25</td>\n      <td>153.250000</td>\n      <td>coastal</td>\n      <td>NaN</td>\n      <td>...</td>\n      <td>NaN</td>\n      <td>NaN</td>\n      <td>NaN</td>\n      <td>NaN</td>\n      <td>NaN</td>\n      <td>NaN</td>\n      <td>NaN</td>\n      <td>media outlet</td>\n      <td>green, whitley 1958, the queenslander 12.3.1921</td>\n      <td>NaN</td>\n    </tr>\n    <tr>\n      <th>16</th>\n      <td>17</td>\n      <td>11</td>\n      <td>1847</td>\n      <td>injured</td>\n      <td>QLD</td>\n      <td>brisbane river</td>\n      <td>-27.433333</td>\n      <td>153.083333</td>\n      <td>river</td>\n      <td>NaN</td>\n      <td>...</td>\n      <td>NaN</td>\n      <td>NaN</td>\n      <td>NaN</td>\n      <td>NaN</td>\n      <td>NaN</td>\n      <td>NaN</td>\n      <td>NaN</td>\n      <td>media outlet</td>\n      <td>morton bay courrier 4.12.1847, maitland mercur...</td>\n      <td>NaN</td>\n    </tr>\n    <tr>\n      <th>17</th>\n      <td>18</td>\n      <td>1</td>\n      <td>1849</td>\n      <td>fatal</td>\n      <td>WA</td>\n      <td>quindalup, busselton</td>\n      <td>-33.366667</td>\n      <td>115.283333</td>\n      <td>ocean/pelagic</td>\n      <td>NaN</td>\n      <td>...</td>\n      <td>NaN</td>\n      <td>NaN</td>\n      <td>NaN</td>\n      <td>NaN</td>\n      <td>NaN</td>\n      <td>NaN</td>\n      <td>NaN</td>\n      <td>media outlet</td>\n      <td>bunbury herald 7.6.1849</td>\n      <td>NaN</td>\n    </tr>\n    <tr>\n      <th>18</th>\n      <td>19</td>\n      <td>12</td>\n      <td>1849</td>\n      <td>injured</td>\n      <td>VIC</td>\n      <td>portland</td>\n      <td>-38.333333</td>\n      <td>141.600000</td>\n      <td>coastal</td>\n      <td>NaN</td>\n      <td>...</td>\n      <td>NaN</td>\n      <td>NaN</td>\n      <td>NaN</td>\n      <td>NaN</td>\n      <td>NaN</td>\n      <td>NaN</td>\n      <td>NaN</td>\n      <td>media outlet</td>\n      <td>portland guardian 1.12.1874</td>\n      <td>NaN</td>\n    </tr>\n    <tr>\n      <th>19</th>\n      <td>20</td>\n      <td>12</td>\n      <td>1849</td>\n      <td>fatal</td>\n      <td>NSW</td>\n      <td>woolloomooloo bay, sydney harbour</td>\n      <td>-33.816667</td>\n      <td>151.200000</td>\n      <td>estuary/harbour</td>\n      <td>NaN</td>\n      <td>...</td>\n      <td>NaN</td>\n      <td>NaN</td>\n      <td>NaN</td>\n      <td>NaN</td>\n      <td>NaN</td>\n      <td>NaN</td>\n      <td>NaN</td>\n      <td>media outlet</td>\n      <td>smh 3.12.1849</td>\n      <td>NaN</td>\n    </tr>\n  </tbody>\n</table>\n<p>20 rows × 60 columns</p>\n</div>"
     },
     "execution_count": 2,
     "metadata": {},
     "output_type": "execute_result"
    }
   ],
   "source": [
    "bad_data = pd.read_excel('data/Australian Shark Database.xlsx')\n",
    "bad_data.head(20)"
   ],
   "metadata": {
    "collapsed": false,
    "pycharm": {
     "name": "#%%\n"
    }
   }
  },
  {
   "cell_type": "code",
   "execution_count": 3,
   "outputs": [
    {
     "data": {
      "text/plain": "(1196, 60)"
     },
     "execution_count": 3,
     "metadata": {},
     "output_type": "execute_result"
    }
   ],
   "source": [
    "bad_data.shape"
   ],
   "metadata": {
    "collapsed": false,
    "pycharm": {
     "name": "#%%\n"
    }
   }
  },
  {
   "cell_type": "code",
   "execution_count": 4,
   "outputs": [
    {
     "data": {
      "text/plain": "array(['NSW', 'WA', 'TAS', 'SA', 'QLD', 'VIC', 'NT'], dtype=object)"
     },
     "execution_count": 4,
     "metadata": {},
     "output_type": "execute_result"
    }
   ],
   "source": [
    "bad_data.State.unique()"
   ],
   "metadata": {
    "collapsed": false,
    "pycharm": {
     "name": "#%%\n"
    }
   }
  },
  {
   "cell_type": "code",
   "execution_count": 5,
   "outputs": [
    {
     "data": {
      "text/plain": "<table border=\"0\" cellpadding=\"0\" cellspacing=\"0\" style=\"font-family: 'Droid Sans', sans-serif; margin-top: 10px; margin-bottom: 10px;\" width=\"470\">\n<tbody>\n<tr>\n<td style=\"padding-right: 9px; padding-left: 9px;\"> <strong>State</strong> </td>\n<td style=\"padding-right: 9px; padding-left: 9px;\"> <strong>Abbreviation</strong> </td>\n<td style=\"padding-right: 9px; padding-left: 9px;\"> <strong>Alternate Abbreviation</strong> </td>\n</tr>\n<tr>\n<td style=\"padding-right: 9px; padding-left: 9px; \"> New South Wales </td>\n<td class=\"current\" style=\"padding-right: 9px; padding-left: 9px;\"> NSW </td>\n<td style=\"padding-right: 9px; padding-left: 9px;;\"> NS </td>\n</tr>\n<tr>\n<td style=\"padding-right: 9px; padding-left: 9px;\"> Northern Territory </td>\n<td style=\"padding-right: 9px; padding-left: 9px;\\\"> NT </td>\n<td style=\"padding-right: 9px; padding-left: 9px;\\\"> </td>\n</tr>\n<tr>\n<td style=\"padding-right: 9px; padding-left: 9px;\\\"> Queensland </td>\n<td style=\"padding-right: 9px; padding-left: 9px;\\\"> Qld </td>\n<td style=\"padding-right: 9px; padding-left: 9px;\"> QL </td>\n</tr>\n<tr>\n<td style=\"padding-right: 9px; padding-left: 9px; \"> South Australia </td>\n<td style=\"padding-right: 9px; padding-left: 9px;\"> SA </td>\n<td style=\"padding-right: 9px; padding-left: 9px;\"> </td>\n</tr>\n<tr>\n<td style=\"padding-right: 9px; padding-left: 9px;\"> Tasmania </td>\n<td style=\"padding-right: 9px; padding-left: 9px;\"> Tas </td>\n<td style=\"padding-right: 9px; padding-left: 9px;\"> TS </td>\n</tr>\n<tr>\n<td style=\"padding-right: 9px; padding-left: 9px;\"> Victoria </td>\n<td style=\"padding-right: 9px; padding-left: 9px;\"> Vic </td>\n<td style=\"padding-right: 9px; padding-left: 9px;\"> VI </td>\n</tr>\n<tr>\n<td style=\"padding-right: 9px; padding-left: 9px;\"> Western Australia </td>\n<td style=\"padding-right: 9px; padding-left: 9px;\"> WA </td>\n<td style=\"padding-right: 9px; padding-left: 9px; \"> </td>\n</tr>\n</tbody>\n</table>"
     },
     "execution_count": 5,
     "metadata": {},
     "output_type": "execute_result"
    }
   ],
   "source": [
    "from bs4 import BeautifulSoup as soup\n",
    "import requests\n",
    "\n",
    "r = requests.get(\"https://kb.bullseyelocations.com/article/42-australia-state-codes\")\n",
    "\n",
    "bs = soup(r.content, 'html')\n",
    "table = bs.find_all('table')[0]\n",
    "table"
   ],
   "metadata": {
    "collapsed": false,
    "pycharm": {
     "name": "#%%\n"
    }
   }
  },
  {
   "cell_type": "code",
   "execution_count": 6,
   "outputs": [
    {
     "data": {
      "text/plain": "                State Abbreviation Alternate Abbreviation\n0     New South Wales          NSW                     NS\n1  Northern Territory           NT                    NaN\n2          Queensland          Qld                     QL\n3     South Australia           SA                    NaN\n4            Tasmania          Tas                     TS\n5            Victoria          Vic                     VI\n6   Western Australia           WA                    NaN",
      "text/html": "<div>\n<style scoped>\n    .dataframe tbody tr th:only-of-type {\n        vertical-align: middle;\n    }\n\n    .dataframe tbody tr th {\n        vertical-align: top;\n    }\n\n    .dataframe thead th {\n        text-align: right;\n    }\n</style>\n<table border=\"1\" class=\"dataframe\">\n  <thead>\n    <tr style=\"text-align: right;\">\n      <th></th>\n      <th>State</th>\n      <th>Abbreviation</th>\n      <th>Alternate Abbreviation</th>\n    </tr>\n  </thead>\n  <tbody>\n    <tr>\n      <th>0</th>\n      <td>New South Wales</td>\n      <td>NSW</td>\n      <td>NS</td>\n    </tr>\n    <tr>\n      <th>1</th>\n      <td>Northern Territory</td>\n      <td>NT</td>\n      <td>NaN</td>\n    </tr>\n    <tr>\n      <th>2</th>\n      <td>Queensland</td>\n      <td>Qld</td>\n      <td>QL</td>\n    </tr>\n    <tr>\n      <th>3</th>\n      <td>South Australia</td>\n      <td>SA</td>\n      <td>NaN</td>\n    </tr>\n    <tr>\n      <th>4</th>\n      <td>Tasmania</td>\n      <td>Tas</td>\n      <td>TS</td>\n    </tr>\n    <tr>\n      <th>5</th>\n      <td>Victoria</td>\n      <td>Vic</td>\n      <td>VI</td>\n    </tr>\n    <tr>\n      <th>6</th>\n      <td>Western Australia</td>\n      <td>WA</td>\n      <td>NaN</td>\n    </tr>\n  </tbody>\n</table>\n</div>"
     },
     "execution_count": 6,
     "metadata": {},
     "output_type": "execute_result"
    }
   ],
   "source": [
    "df = pd.read_html(str(table),header=0)[0]\n",
    "df"
   ],
   "metadata": {
    "collapsed": false,
    "pycharm": {
     "name": "#%%\n"
    }
   }
  },
  {
   "cell_type": "code",
   "execution_count": 7,
   "outputs": [
    {
     "data": {
      "text/plain": "                State state_code\n0     New South Wales        NSW\n1  Northern Territory         NT\n2          Queensland        QLD\n3     South Australia         SA\n4            Tasmania        TAS\n5            Victoria        VIC\n6   Western Australia         WA",
      "text/html": "<div>\n<style scoped>\n    .dataframe tbody tr th:only-of-type {\n        vertical-align: middle;\n    }\n\n    .dataframe tbody tr th {\n        vertical-align: top;\n    }\n\n    .dataframe thead th {\n        text-align: right;\n    }\n</style>\n<table border=\"1\" class=\"dataframe\">\n  <thead>\n    <tr style=\"text-align: right;\">\n      <th></th>\n      <th>State</th>\n      <th>state_code</th>\n    </tr>\n  </thead>\n  <tbody>\n    <tr>\n      <th>0</th>\n      <td>New South Wales</td>\n      <td>NSW</td>\n    </tr>\n    <tr>\n      <th>1</th>\n      <td>Northern Territory</td>\n      <td>NT</td>\n    </tr>\n    <tr>\n      <th>2</th>\n      <td>Queensland</td>\n      <td>QLD</td>\n    </tr>\n    <tr>\n      <th>3</th>\n      <td>South Australia</td>\n      <td>SA</td>\n    </tr>\n    <tr>\n      <th>4</th>\n      <td>Tasmania</td>\n      <td>TAS</td>\n    </tr>\n    <tr>\n      <th>5</th>\n      <td>Victoria</td>\n      <td>VIC</td>\n    </tr>\n    <tr>\n      <th>6</th>\n      <td>Western Australia</td>\n      <td>WA</td>\n    </tr>\n  </tbody>\n</table>\n</div>"
     },
     "execution_count": 7,
     "metadata": {},
     "output_type": "execute_result"
    }
   ],
   "source": [
    "df_copy = df.copy()\n",
    "df_copy.Abbreviation = df_copy.Abbreviation.str.upper()\n",
    "df_copy = df_copy[['State', 'Abbreviation']]\n",
    "df_copy.rename(columns={'Abbreviation':'state_code'}, inplace=True)\n",
    "df_copy"
   ],
   "metadata": {
    "collapsed": false,
    "pycharm": {
     "name": "#%%\n"
    }
   }
  },
  {
   "cell_type": "code",
   "execution_count": 8,
   "outputs": [
    {
     "data": {
      "text/plain": "       UIN  Incident.month  Incident.year Victim.injury state_code  \\\n0        1               1           1791         fatal        NSW   \n1        2               3           1803       injured         WA   \n2        3               1           1807       injured        NSW   \n3        4               1           1820         fatal        TAS   \n4        5               1           1825       injured        NSW   \n...    ...             ...            ...           ...        ...   \n1191  1192               2           2022       injured        QLD   \n1192  1193               2           2022       injured         WA   \n1193  1194               2           2022       injured        NSW   \n1194  1195               3           2022       injured        NSW   \n1195  1196               3           2022     uninjured        NSW   \n\n                             Location    Latitude   Longitude  \\\n0                         near sydney  -33.866667  151.200000   \n1           hamelin bay, faure island  -25.833333  113.883333   \n2          cockle bay, sydney harbour  -33.866667  151.200000   \n3        sweetwater point, pitt water       -42.8  147.533333   \n4     kirribili point, sydney harbour      -33.85  151.216667   \n...                               ...         ...         ...   \n1191              Redcliffe, Brisbane    -27.2333  153.266663   \n1192             wylie bay, esperance  -33.84848   121.918360   \n1193             shelley beach, manly    -33.8006  151.298200   \n1194                crowdy head beach         -32  152.751200   \n1195           maroubra beach, sydney    -33.9516  151.260300   \n\n        Site.category Site.category.comment  ... Spring.or.neap.tide  \\\n0             coastal                   NaN  ...                 NaN   \n1             coastal                   NaN  ...                 NaN   \n2     estuary/harbour                   NaN  ...                 NaN   \n3             coastal                   NaN  ...                 NaN   \n4     estuary/harbour                   NaN  ...                 NaN   \n...               ...                   ...  ...                 ...   \n1191    ocean/pelagic                   NaN  ...                 NaN   \n1192          coastal     bay to open ocean  ...                 NaN   \n1193          coastal     bay to open ocean  ...                 NaN   \n1194          coastal            surf beach  ...                 NaN   \n1195          coastal            surf beach  ...                 NaN   \n\n     Tidal.cycle Wind.condition Weather.condition  Air.temperature.°C  \\\n0            NaN            NaN               NaN                 NaN   \n1            NaN            NaN               NaN                 NaN   \n2            NaN            NaN               NaN                 NaN   \n3            NaN            NaN               NaN                 NaN   \n4            NaN            NaN               NaN                 NaN   \n...          ...            ...               ...                 ...   \n1191         NaN            NaN               NaN                 NaN   \n1192         NaN            NaN               NaN                 NaN   \n1193         NaN            NaN               NaN                 NaN   \n1194         NaN            NaN               NaN                 NaN   \n1195         NaN            NaN               NaN                 NaN   \n\n     Personal.protective.device Deterrent.brand.and.type  \\\n0                           NaN                      NaN   \n1                           NaN                      NaN   \n2                           NaN                      NaN   \n3                           NaN                      NaN   \n4                           NaN                      NaN   \n...                         ...                      ...   \n1191                        NaN                      NaN   \n1192                        NaN                      NaN   \n1193                        NaN                      NaN   \n1194                        NaN                      NaN   \n1195                        NaN                      NaN   \n\n                    Data.source  \\\n0                          book   \n1                          book   \n2                  media outlet   \n3               witness account   \n4                  media outlet   \n...                         ...   \n1191                        NaN   \n1192                        NaN   \n1193                        NaN   \n1194                        NaN   \n1195  other questionnaire (DPI)   \n\n                                              Reference Unnamed: 59  \n0              shark&survl, whitley 1958, book ref 1793         NaN  \n1                   balgridge,green,taylor,whitley 1940         NaN  \n2                              sydney gazette 18.1.1807         NaN  \n3                      shark&survl, c. black researcher         NaN  \n4                     maitland daily mercury 13.11.1899         NaN  \n...                                                 ...         ...  \n1191                                                NaN         NaN  \n1192  https://www.dailymail.co.uk/news/article-10483...         NaN  \n1193                                                NaN         NaN  \n1194                                                NaN         NaN  \n1195                                                NaN         NaN  \n\n[1196 rows x 60 columns]",
      "text/html": "<div>\n<style scoped>\n    .dataframe tbody tr th:only-of-type {\n        vertical-align: middle;\n    }\n\n    .dataframe tbody tr th {\n        vertical-align: top;\n    }\n\n    .dataframe thead th {\n        text-align: right;\n    }\n</style>\n<table border=\"1\" class=\"dataframe\">\n  <thead>\n    <tr style=\"text-align: right;\">\n      <th></th>\n      <th>UIN</th>\n      <th>Incident.month</th>\n      <th>Incident.year</th>\n      <th>Victim.injury</th>\n      <th>state_code</th>\n      <th>Location</th>\n      <th>Latitude</th>\n      <th>Longitude</th>\n      <th>Site.category</th>\n      <th>Site.category.comment</th>\n      <th>...</th>\n      <th>Spring.or.neap.tide</th>\n      <th>Tidal.cycle</th>\n      <th>Wind.condition</th>\n      <th>Weather.condition</th>\n      <th>Air.temperature.°C</th>\n      <th>Personal.protective.device</th>\n      <th>Deterrent.brand.and.type</th>\n      <th>Data.source</th>\n      <th>Reference</th>\n      <th>Unnamed: 59</th>\n    </tr>\n  </thead>\n  <tbody>\n    <tr>\n      <th>0</th>\n      <td>1</td>\n      <td>1</td>\n      <td>1791</td>\n      <td>fatal</td>\n      <td>NSW</td>\n      <td>near sydney</td>\n      <td>-33.866667</td>\n      <td>151.200000</td>\n      <td>coastal</td>\n      <td>NaN</td>\n      <td>...</td>\n      <td>NaN</td>\n      <td>NaN</td>\n      <td>NaN</td>\n      <td>NaN</td>\n      <td>NaN</td>\n      <td>NaN</td>\n      <td>NaN</td>\n      <td>book</td>\n      <td>shark&amp;survl, whitley 1958, book ref 1793</td>\n      <td>NaN</td>\n    </tr>\n    <tr>\n      <th>1</th>\n      <td>2</td>\n      <td>3</td>\n      <td>1803</td>\n      <td>injured</td>\n      <td>WA</td>\n      <td>hamelin bay, faure island</td>\n      <td>-25.833333</td>\n      <td>113.883333</td>\n      <td>coastal</td>\n      <td>NaN</td>\n      <td>...</td>\n      <td>NaN</td>\n      <td>NaN</td>\n      <td>NaN</td>\n      <td>NaN</td>\n      <td>NaN</td>\n      <td>NaN</td>\n      <td>NaN</td>\n      <td>book</td>\n      <td>balgridge,green,taylor,whitley 1940</td>\n      <td>NaN</td>\n    </tr>\n    <tr>\n      <th>2</th>\n      <td>3</td>\n      <td>1</td>\n      <td>1807</td>\n      <td>injured</td>\n      <td>NSW</td>\n      <td>cockle bay, sydney harbour</td>\n      <td>-33.866667</td>\n      <td>151.200000</td>\n      <td>estuary/harbour</td>\n      <td>NaN</td>\n      <td>...</td>\n      <td>NaN</td>\n      <td>NaN</td>\n      <td>NaN</td>\n      <td>NaN</td>\n      <td>NaN</td>\n      <td>NaN</td>\n      <td>NaN</td>\n      <td>media outlet</td>\n      <td>sydney gazette 18.1.1807</td>\n      <td>NaN</td>\n    </tr>\n    <tr>\n      <th>3</th>\n      <td>4</td>\n      <td>1</td>\n      <td>1820</td>\n      <td>fatal</td>\n      <td>TAS</td>\n      <td>sweetwater point, pitt water</td>\n      <td>-42.8</td>\n      <td>147.533333</td>\n      <td>coastal</td>\n      <td>NaN</td>\n      <td>...</td>\n      <td>NaN</td>\n      <td>NaN</td>\n      <td>NaN</td>\n      <td>NaN</td>\n      <td>NaN</td>\n      <td>NaN</td>\n      <td>NaN</td>\n      <td>witness account</td>\n      <td>shark&amp;survl, c. black researcher</td>\n      <td>NaN</td>\n    </tr>\n    <tr>\n      <th>4</th>\n      <td>5</td>\n      <td>1</td>\n      <td>1825</td>\n      <td>injured</td>\n      <td>NSW</td>\n      <td>kirribili point, sydney harbour</td>\n      <td>-33.85</td>\n      <td>151.216667</td>\n      <td>estuary/harbour</td>\n      <td>NaN</td>\n      <td>...</td>\n      <td>NaN</td>\n      <td>NaN</td>\n      <td>NaN</td>\n      <td>NaN</td>\n      <td>NaN</td>\n      <td>NaN</td>\n      <td>NaN</td>\n      <td>media outlet</td>\n      <td>maitland daily mercury 13.11.1899</td>\n      <td>NaN</td>\n    </tr>\n    <tr>\n      <th>...</th>\n      <td>...</td>\n      <td>...</td>\n      <td>...</td>\n      <td>...</td>\n      <td>...</td>\n      <td>...</td>\n      <td>...</td>\n      <td>...</td>\n      <td>...</td>\n      <td>...</td>\n      <td>...</td>\n      <td>...</td>\n      <td>...</td>\n      <td>...</td>\n      <td>...</td>\n      <td>...</td>\n      <td>...</td>\n      <td>...</td>\n      <td>...</td>\n      <td>...</td>\n      <td>...</td>\n    </tr>\n    <tr>\n      <th>1191</th>\n      <td>1192</td>\n      <td>2</td>\n      <td>2022</td>\n      <td>injured</td>\n      <td>QLD</td>\n      <td>Redcliffe, Brisbane</td>\n      <td>-27.2333</td>\n      <td>153.266663</td>\n      <td>ocean/pelagic</td>\n      <td>NaN</td>\n      <td>...</td>\n      <td>NaN</td>\n      <td>NaN</td>\n      <td>NaN</td>\n      <td>NaN</td>\n      <td>NaN</td>\n      <td>NaN</td>\n      <td>NaN</td>\n      <td>NaN</td>\n      <td>NaN</td>\n      <td>NaN</td>\n    </tr>\n    <tr>\n      <th>1192</th>\n      <td>1193</td>\n      <td>2</td>\n      <td>2022</td>\n      <td>injured</td>\n      <td>WA</td>\n      <td>wylie bay, esperance</td>\n      <td>-33.84848</td>\n      <td>121.918360</td>\n      <td>coastal</td>\n      <td>bay to open ocean</td>\n      <td>...</td>\n      <td>NaN</td>\n      <td>NaN</td>\n      <td>NaN</td>\n      <td>NaN</td>\n      <td>NaN</td>\n      <td>NaN</td>\n      <td>NaN</td>\n      <td>NaN</td>\n      <td>https://www.dailymail.co.uk/news/article-10483...</td>\n      <td>NaN</td>\n    </tr>\n    <tr>\n      <th>1193</th>\n      <td>1194</td>\n      <td>2</td>\n      <td>2022</td>\n      <td>injured</td>\n      <td>NSW</td>\n      <td>shelley beach, manly</td>\n      <td>-33.8006</td>\n      <td>151.298200</td>\n      <td>coastal</td>\n      <td>bay to open ocean</td>\n      <td>...</td>\n      <td>NaN</td>\n      <td>NaN</td>\n      <td>NaN</td>\n      <td>NaN</td>\n      <td>NaN</td>\n      <td>NaN</td>\n      <td>NaN</td>\n      <td>NaN</td>\n      <td>NaN</td>\n      <td>NaN</td>\n    </tr>\n    <tr>\n      <th>1194</th>\n      <td>1195</td>\n      <td>3</td>\n      <td>2022</td>\n      <td>injured</td>\n      <td>NSW</td>\n      <td>crowdy head beach</td>\n      <td>-32</td>\n      <td>152.751200</td>\n      <td>coastal</td>\n      <td>surf beach</td>\n      <td>...</td>\n      <td>NaN</td>\n      <td>NaN</td>\n      <td>NaN</td>\n      <td>NaN</td>\n      <td>NaN</td>\n      <td>NaN</td>\n      <td>NaN</td>\n      <td>NaN</td>\n      <td>NaN</td>\n      <td>NaN</td>\n    </tr>\n    <tr>\n      <th>1195</th>\n      <td>1196</td>\n      <td>3</td>\n      <td>2022</td>\n      <td>uninjured</td>\n      <td>NSW</td>\n      <td>maroubra beach, sydney</td>\n      <td>-33.9516</td>\n      <td>151.260300</td>\n      <td>coastal</td>\n      <td>surf beach</td>\n      <td>...</td>\n      <td>NaN</td>\n      <td>NaN</td>\n      <td>NaN</td>\n      <td>NaN</td>\n      <td>NaN</td>\n      <td>NaN</td>\n      <td>NaN</td>\n      <td>other questionnaire (DPI)</td>\n      <td>NaN</td>\n      <td>NaN</td>\n    </tr>\n  </tbody>\n</table>\n<p>1196 rows × 60 columns</p>\n</div>"
     },
     "execution_count": 8,
     "metadata": {},
     "output_type": "execute_result"
    }
   ],
   "source": [
    "bad_data.rename(columns={'State': 'state_code'}, inplace=True)\n",
    "bad_data"
   ],
   "metadata": {
    "collapsed": false,
    "pycharm": {
     "name": "#%%\n"
    }
   }
  },
  {
   "cell_type": "code",
   "execution_count": 9,
   "outputs": [
    {
     "data": {
      "text/plain": "       UIN  Incident.month  Incident.year Victim.injury state_code  \\\n0        1               1           1791         fatal        NSW   \n1        3               1           1807       injured        NSW   \n2        5               1           1825       injured        NSW   \n3        7               1           1832       injured        NSW   \n4        8               6           1832       injured        NSW   \n...    ...             ...            ...           ...        ...   \n1191   781               7           2003     uninjured         NT   \n1192   815               4           2005       injured         NT   \n1193  1092               9           2018       injured         NT   \n1194  1099              11           2018       injured         NT   \n1195  1106               2           2019       injured         NT   \n\n                                    Location   Latitude   Longitude  \\\n0                                near sydney -33.866667  151.200000   \n1                 cockle bay, sydney harbour -33.866667  151.200000   \n2            kirribili point, sydney harbour     -33.85  151.216667   \n3     blackwattle bay, glebe, sydney harbour -33.866667  151.183333   \n4                 south head, sydney harbour -33.833333  151.266667   \n...                                      ...        ...         ...   \n1191               nhulunbuy, bremmer island -12.183333  136.766667   \n1192               nhulunbuy, bremmer island -12.116667  136.800000   \n1193      groote eylandt, arnhem land (east)     -13.97  136.593300   \n1194                               nhulunbuy   -12.1825  136.781900   \n1195            umbakumba - 12 km out to sea   -13.8611  136.811600   \n\n          Site.category Site.category.comment  ... Tidal.cycle Wind.condition  \\\n0               coastal                   NaN  ...         NaN            NaN   \n1       estuary/harbour                   NaN  ...         NaN            NaN   \n2       estuary/harbour                   NaN  ...         NaN            NaN   \n3       estuary/harbour                   NaN  ...         NaN            NaN   \n4               coastal                   NaN  ...         NaN            NaN   \n...                 ...                   ...  ...         ...            ...   \n1191  island open ocean                   NaN  ...         NaN            NaN   \n1192  island open ocean                   NaN  ...         NaN            NaN   \n1193  island open ocean                   NaN  ...         NaN            NaN   \n1194            coastal                   NaN  ...         NaN            NaN   \n1195      ocean/pelagic                   NaN  ...         NaN            NaN   \n\n     Weather.condition Air.temperature.°C  Personal.protective.device  \\\n0                  NaN                NaN                         NaN   \n1                  NaN                NaN                         NaN   \n2                  NaN                NaN                         NaN   \n3                  NaN                NaN                         NaN   \n4                  NaN                NaN                         NaN   \n...                ...                ...                         ...   \n1191               NaN                NaN                         NaN   \n1192               NaN                NaN                    speargun   \n1193               NaN                NaN                         NaN   \n1194               NaN                NaN                         NaN   \n1195               NaN                NaN                         NaN   \n\n     Deterrent.brand.and.type   Data.source  \\\n0                         NaN          book   \n1                         NaN  media outlet   \n2                         NaN  media outlet   \n3                         NaN  media outlet   \n4                         NaN  media outlet   \n...                       ...           ...   \n1191                      NaN  media outlet   \n1192                      NaN  media outlet   \n1193                      NaN           NaN   \n1194                      NaN           NaN   \n1195                      NaN           NaN   \n\n                                              Reference  Unnamed: 59  \\\n0              shark&survl, whitley 1958, book ref 1793          NaN   \n1                              sydney gazette 18.1.1807          NaN   \n2                     maitland daily mercury 13.11.1899          NaN   \n3                                         smh 23.1.1832          NaN   \n4                               sydney herald 11.6.1832          NaN   \n...                                                 ...          ...   \n1191                                news.com.au article          NaN   \n1192  per. comm. 19.4.05, northern territory news 20...          NaN   \n1193  https://www.katherinetimes.com.au/story/567594...          NaN   \n1194  https://www.abc.net.au/news/2018-11-18/teenage...          NaN   \n1195  https://www.abc.net.au/news/2019-02-11/spearfi...          NaN   \n\n                   State  \n0        New South Wales  \n1        New South Wales  \n2        New South Wales  \n3        New South Wales  \n4        New South Wales  \n...                  ...  \n1191  Northern Territory  \n1192  Northern Territory  \n1193  Northern Territory  \n1194  Northern Territory  \n1195  Northern Territory  \n\n[1196 rows x 61 columns]",
      "text/html": "<div>\n<style scoped>\n    .dataframe tbody tr th:only-of-type {\n        vertical-align: middle;\n    }\n\n    .dataframe tbody tr th {\n        vertical-align: top;\n    }\n\n    .dataframe thead th {\n        text-align: right;\n    }\n</style>\n<table border=\"1\" class=\"dataframe\">\n  <thead>\n    <tr style=\"text-align: right;\">\n      <th></th>\n      <th>UIN</th>\n      <th>Incident.month</th>\n      <th>Incident.year</th>\n      <th>Victim.injury</th>\n      <th>state_code</th>\n      <th>Location</th>\n      <th>Latitude</th>\n      <th>Longitude</th>\n      <th>Site.category</th>\n      <th>Site.category.comment</th>\n      <th>...</th>\n      <th>Tidal.cycle</th>\n      <th>Wind.condition</th>\n      <th>Weather.condition</th>\n      <th>Air.temperature.°C</th>\n      <th>Personal.protective.device</th>\n      <th>Deterrent.brand.and.type</th>\n      <th>Data.source</th>\n      <th>Reference</th>\n      <th>Unnamed: 59</th>\n      <th>State</th>\n    </tr>\n  </thead>\n  <tbody>\n    <tr>\n      <th>0</th>\n      <td>1</td>\n      <td>1</td>\n      <td>1791</td>\n      <td>fatal</td>\n      <td>NSW</td>\n      <td>near sydney</td>\n      <td>-33.866667</td>\n      <td>151.200000</td>\n      <td>coastal</td>\n      <td>NaN</td>\n      <td>...</td>\n      <td>NaN</td>\n      <td>NaN</td>\n      <td>NaN</td>\n      <td>NaN</td>\n      <td>NaN</td>\n      <td>NaN</td>\n      <td>book</td>\n      <td>shark&amp;survl, whitley 1958, book ref 1793</td>\n      <td>NaN</td>\n      <td>New South Wales</td>\n    </tr>\n    <tr>\n      <th>1</th>\n      <td>3</td>\n      <td>1</td>\n      <td>1807</td>\n      <td>injured</td>\n      <td>NSW</td>\n      <td>cockle bay, sydney harbour</td>\n      <td>-33.866667</td>\n      <td>151.200000</td>\n      <td>estuary/harbour</td>\n      <td>NaN</td>\n      <td>...</td>\n      <td>NaN</td>\n      <td>NaN</td>\n      <td>NaN</td>\n      <td>NaN</td>\n      <td>NaN</td>\n      <td>NaN</td>\n      <td>media outlet</td>\n      <td>sydney gazette 18.1.1807</td>\n      <td>NaN</td>\n      <td>New South Wales</td>\n    </tr>\n    <tr>\n      <th>2</th>\n      <td>5</td>\n      <td>1</td>\n      <td>1825</td>\n      <td>injured</td>\n      <td>NSW</td>\n      <td>kirribili point, sydney harbour</td>\n      <td>-33.85</td>\n      <td>151.216667</td>\n      <td>estuary/harbour</td>\n      <td>NaN</td>\n      <td>...</td>\n      <td>NaN</td>\n      <td>NaN</td>\n      <td>NaN</td>\n      <td>NaN</td>\n      <td>NaN</td>\n      <td>NaN</td>\n      <td>media outlet</td>\n      <td>maitland daily mercury 13.11.1899</td>\n      <td>NaN</td>\n      <td>New South Wales</td>\n    </tr>\n    <tr>\n      <th>3</th>\n      <td>7</td>\n      <td>1</td>\n      <td>1832</td>\n      <td>injured</td>\n      <td>NSW</td>\n      <td>blackwattle bay, glebe, sydney harbour</td>\n      <td>-33.866667</td>\n      <td>151.183333</td>\n      <td>estuary/harbour</td>\n      <td>NaN</td>\n      <td>...</td>\n      <td>NaN</td>\n      <td>NaN</td>\n      <td>NaN</td>\n      <td>NaN</td>\n      <td>NaN</td>\n      <td>NaN</td>\n      <td>media outlet</td>\n      <td>smh 23.1.1832</td>\n      <td>NaN</td>\n      <td>New South Wales</td>\n    </tr>\n    <tr>\n      <th>4</th>\n      <td>8</td>\n      <td>6</td>\n      <td>1832</td>\n      <td>injured</td>\n      <td>NSW</td>\n      <td>south head, sydney harbour</td>\n      <td>-33.833333</td>\n      <td>151.266667</td>\n      <td>coastal</td>\n      <td>NaN</td>\n      <td>...</td>\n      <td>NaN</td>\n      <td>NaN</td>\n      <td>NaN</td>\n      <td>NaN</td>\n      <td>NaN</td>\n      <td>NaN</td>\n      <td>media outlet</td>\n      <td>sydney herald 11.6.1832</td>\n      <td>NaN</td>\n      <td>New South Wales</td>\n    </tr>\n    <tr>\n      <th>...</th>\n      <td>...</td>\n      <td>...</td>\n      <td>...</td>\n      <td>...</td>\n      <td>...</td>\n      <td>...</td>\n      <td>...</td>\n      <td>...</td>\n      <td>...</td>\n      <td>...</td>\n      <td>...</td>\n      <td>...</td>\n      <td>...</td>\n      <td>...</td>\n      <td>...</td>\n      <td>...</td>\n      <td>...</td>\n      <td>...</td>\n      <td>...</td>\n      <td>...</td>\n      <td>...</td>\n    </tr>\n    <tr>\n      <th>1191</th>\n      <td>781</td>\n      <td>7</td>\n      <td>2003</td>\n      <td>uninjured</td>\n      <td>NT</td>\n      <td>nhulunbuy, bremmer island</td>\n      <td>-12.183333</td>\n      <td>136.766667</td>\n      <td>island open ocean</td>\n      <td>NaN</td>\n      <td>...</td>\n      <td>NaN</td>\n      <td>NaN</td>\n      <td>NaN</td>\n      <td>NaN</td>\n      <td>NaN</td>\n      <td>NaN</td>\n      <td>media outlet</td>\n      <td>news.com.au article</td>\n      <td>NaN</td>\n      <td>Northern Territory</td>\n    </tr>\n    <tr>\n      <th>1192</th>\n      <td>815</td>\n      <td>4</td>\n      <td>2005</td>\n      <td>injured</td>\n      <td>NT</td>\n      <td>nhulunbuy, bremmer island</td>\n      <td>-12.116667</td>\n      <td>136.800000</td>\n      <td>island open ocean</td>\n      <td>NaN</td>\n      <td>...</td>\n      <td>NaN</td>\n      <td>NaN</td>\n      <td>NaN</td>\n      <td>NaN</td>\n      <td>speargun</td>\n      <td>NaN</td>\n      <td>media outlet</td>\n      <td>per. comm. 19.4.05, northern territory news 20...</td>\n      <td>NaN</td>\n      <td>Northern Territory</td>\n    </tr>\n    <tr>\n      <th>1193</th>\n      <td>1092</td>\n      <td>9</td>\n      <td>2018</td>\n      <td>injured</td>\n      <td>NT</td>\n      <td>groote eylandt, arnhem land (east)</td>\n      <td>-13.97</td>\n      <td>136.593300</td>\n      <td>island open ocean</td>\n      <td>NaN</td>\n      <td>...</td>\n      <td>NaN</td>\n      <td>NaN</td>\n      <td>NaN</td>\n      <td>NaN</td>\n      <td>NaN</td>\n      <td>NaN</td>\n      <td>NaN</td>\n      <td>https://www.katherinetimes.com.au/story/567594...</td>\n      <td>NaN</td>\n      <td>Northern Territory</td>\n    </tr>\n    <tr>\n      <th>1194</th>\n      <td>1099</td>\n      <td>11</td>\n      <td>2018</td>\n      <td>injured</td>\n      <td>NT</td>\n      <td>nhulunbuy</td>\n      <td>-12.1825</td>\n      <td>136.781900</td>\n      <td>coastal</td>\n      <td>NaN</td>\n      <td>...</td>\n      <td>NaN</td>\n      <td>NaN</td>\n      <td>NaN</td>\n      <td>NaN</td>\n      <td>NaN</td>\n      <td>NaN</td>\n      <td>NaN</td>\n      <td>https://www.abc.net.au/news/2018-11-18/teenage...</td>\n      <td>NaN</td>\n      <td>Northern Territory</td>\n    </tr>\n    <tr>\n      <th>1195</th>\n      <td>1106</td>\n      <td>2</td>\n      <td>2019</td>\n      <td>injured</td>\n      <td>NT</td>\n      <td>umbakumba - 12 km out to sea</td>\n      <td>-13.8611</td>\n      <td>136.811600</td>\n      <td>ocean/pelagic</td>\n      <td>NaN</td>\n      <td>...</td>\n      <td>NaN</td>\n      <td>NaN</td>\n      <td>NaN</td>\n      <td>NaN</td>\n      <td>NaN</td>\n      <td>NaN</td>\n      <td>NaN</td>\n      <td>https://www.abc.net.au/news/2019-02-11/spearfi...</td>\n      <td>NaN</td>\n      <td>Northern Territory</td>\n    </tr>\n  </tbody>\n</table>\n<p>1196 rows × 61 columns</p>\n</div>"
     },
     "execution_count": 9,
     "metadata": {},
     "output_type": "execute_result"
    }
   ],
   "source": [
    "bad_data_mod = pd.merge(left=bad_data, right=df_copy, left_on='state_code', right_on='state_code')\n",
    "bad_data_mod"
   ],
   "metadata": {
    "collapsed": false,
    "pycharm": {
     "name": "#%%\n"
    }
   }
  },
  {
   "cell_type": "code",
   "execution_count": 10,
   "outputs": [
    {
     "data": {
      "text/plain": "      Incident.month  Incident.year Victim.injury               State  \\\n0                  1           1791         fatal     New South Wales   \n1                  1           1807       injured     New South Wales   \n2                  1           1825       injured     New South Wales   \n3                  1           1832       injured     New South Wales   \n4                  6           1832       injured     New South Wales   \n...              ...            ...           ...                 ...   \n1191               7           2003     uninjured  Northern Territory   \n1192               4           2005       injured  Northern Territory   \n1193               9           2018       injured  Northern Territory   \n1194              11           2018       injured  Northern Territory   \n1195               2           2019       injured  Northern Territory   \n\n                                    Location    Shark.common.name  \\\n0                                near sydney          white shark   \n1                 cockle bay, sydney harbour           bull shark   \n2            kirribili point, sydney harbour           bull shark   \n3     blackwattle bay, glebe, sydney harbour           bull shark   \n4                 south head, sydney harbour          white shark   \n...                                      ...                  ...   \n1191               nhulunbuy, bremmer island          tiger shark   \n1192               nhulunbuy, bremmer island         whaler shark   \n1193      groote eylandt, arnhem land (east)           bull shark   \n1194                               nhulunbuy         whaler shark   \n1195            umbakumba - 12 km out to sea  whitetip reef shark   \n\n     Provoked/unprovoked      Victim.activity Victim.gender  \\\n0             unprovoked             swimming        female   \n1             unprovoked             swimming          male   \n2             unprovoked             swimming          male   \n3               provoked             swimming          male   \n4               provoked              fishing        female   \n...                  ...                  ...           ...   \n1191          unprovoked  unmotorised boating          male   \n1192            provoked         spearfishing          male   \n1193          unprovoked                  NaN          male   \n1194            provoked         spearfishing          male   \n1195            provoked                  NaN           NaN   \n\n          Shark.behaviour   Injury.location  Victim.age  \n0                     NaN             torso         NaN  \n1     bit victim on wrist         arm, hand         NaN  \n2                bit legs               leg        15.0  \n3       bit victim on leg               leg         NaN  \n4       bit victim on leg               leg         NaN  \n...                   ...               ...         ...  \n1191            bit kayak  other: uninjured        37.0  \n1192  bit victim on head               head        20.0  \n1193                  NaN               NaN        17.0  \n1194                  NaN          arm, leg        17.0  \n1195                  NaN               NaN         NaN  \n\n[1196 rows x 12 columns]",
      "text/html": "<div>\n<style scoped>\n    .dataframe tbody tr th:only-of-type {\n        vertical-align: middle;\n    }\n\n    .dataframe tbody tr th {\n        vertical-align: top;\n    }\n\n    .dataframe thead th {\n        text-align: right;\n    }\n</style>\n<table border=\"1\" class=\"dataframe\">\n  <thead>\n    <tr style=\"text-align: right;\">\n      <th></th>\n      <th>Incident.month</th>\n      <th>Incident.year</th>\n      <th>Victim.injury</th>\n      <th>State</th>\n      <th>Location</th>\n      <th>Shark.common.name</th>\n      <th>Provoked/unprovoked</th>\n      <th>Victim.activity</th>\n      <th>Victim.gender</th>\n      <th>Shark.behaviour</th>\n      <th>Injury.location</th>\n      <th>Victim.age</th>\n    </tr>\n  </thead>\n  <tbody>\n    <tr>\n      <th>0</th>\n      <td>1</td>\n      <td>1791</td>\n      <td>fatal</td>\n      <td>New South Wales</td>\n      <td>near sydney</td>\n      <td>white shark</td>\n      <td>unprovoked</td>\n      <td>swimming</td>\n      <td>female</td>\n      <td>NaN</td>\n      <td>torso</td>\n      <td>NaN</td>\n    </tr>\n    <tr>\n      <th>1</th>\n      <td>1</td>\n      <td>1807</td>\n      <td>injured</td>\n      <td>New South Wales</td>\n      <td>cockle bay, sydney harbour</td>\n      <td>bull shark</td>\n      <td>unprovoked</td>\n      <td>swimming</td>\n      <td>male</td>\n      <td>bit victim on wrist</td>\n      <td>arm, hand</td>\n      <td>NaN</td>\n    </tr>\n    <tr>\n      <th>2</th>\n      <td>1</td>\n      <td>1825</td>\n      <td>injured</td>\n      <td>New South Wales</td>\n      <td>kirribili point, sydney harbour</td>\n      <td>bull shark</td>\n      <td>unprovoked</td>\n      <td>swimming</td>\n      <td>male</td>\n      <td>bit legs</td>\n      <td>leg</td>\n      <td>15.0</td>\n    </tr>\n    <tr>\n      <th>3</th>\n      <td>1</td>\n      <td>1832</td>\n      <td>injured</td>\n      <td>New South Wales</td>\n      <td>blackwattle bay, glebe, sydney harbour</td>\n      <td>bull shark</td>\n      <td>provoked</td>\n      <td>swimming</td>\n      <td>male</td>\n      <td>bit victim on leg</td>\n      <td>leg</td>\n      <td>NaN</td>\n    </tr>\n    <tr>\n      <th>4</th>\n      <td>6</td>\n      <td>1832</td>\n      <td>injured</td>\n      <td>New South Wales</td>\n      <td>south head, sydney harbour</td>\n      <td>white shark</td>\n      <td>provoked</td>\n      <td>fishing</td>\n      <td>female</td>\n      <td>bit victim on leg</td>\n      <td>leg</td>\n      <td>NaN</td>\n    </tr>\n    <tr>\n      <th>...</th>\n      <td>...</td>\n      <td>...</td>\n      <td>...</td>\n      <td>...</td>\n      <td>...</td>\n      <td>...</td>\n      <td>...</td>\n      <td>...</td>\n      <td>...</td>\n      <td>...</td>\n      <td>...</td>\n      <td>...</td>\n    </tr>\n    <tr>\n      <th>1191</th>\n      <td>7</td>\n      <td>2003</td>\n      <td>uninjured</td>\n      <td>Northern Territory</td>\n      <td>nhulunbuy, bremmer island</td>\n      <td>tiger shark</td>\n      <td>unprovoked</td>\n      <td>unmotorised boating</td>\n      <td>male</td>\n      <td>bit kayak</td>\n      <td>other: uninjured</td>\n      <td>37.0</td>\n    </tr>\n    <tr>\n      <th>1192</th>\n      <td>4</td>\n      <td>2005</td>\n      <td>injured</td>\n      <td>Northern Territory</td>\n      <td>nhulunbuy, bremmer island</td>\n      <td>whaler shark</td>\n      <td>provoked</td>\n      <td>spearfishing</td>\n      <td>male</td>\n      <td>bit victim on head</td>\n      <td>head</td>\n      <td>20.0</td>\n    </tr>\n    <tr>\n      <th>1193</th>\n      <td>9</td>\n      <td>2018</td>\n      <td>injured</td>\n      <td>Northern Territory</td>\n      <td>groote eylandt, arnhem land (east)</td>\n      <td>bull shark</td>\n      <td>unprovoked</td>\n      <td>NaN</td>\n      <td>male</td>\n      <td>NaN</td>\n      <td>NaN</td>\n      <td>17.0</td>\n    </tr>\n    <tr>\n      <th>1194</th>\n      <td>11</td>\n      <td>2018</td>\n      <td>injured</td>\n      <td>Northern Territory</td>\n      <td>nhulunbuy</td>\n      <td>whaler shark</td>\n      <td>provoked</td>\n      <td>spearfishing</td>\n      <td>male</td>\n      <td>NaN</td>\n      <td>arm, leg</td>\n      <td>17.0</td>\n    </tr>\n    <tr>\n      <th>1195</th>\n      <td>2</td>\n      <td>2019</td>\n      <td>injured</td>\n      <td>Northern Territory</td>\n      <td>umbakumba - 12 km out to sea</td>\n      <td>whitetip reef shark</td>\n      <td>provoked</td>\n      <td>NaN</td>\n      <td>NaN</td>\n      <td>NaN</td>\n      <td>NaN</td>\n      <td>NaN</td>\n    </tr>\n  </tbody>\n</table>\n<p>1196 rows × 12 columns</p>\n</div>"
     },
     "execution_count": 10,
     "metadata": {},
     "output_type": "execute_result"
    }
   ],
   "source": [
    "interested_columns = ['Incident.month', 'Incident.year', 'Victim.injury', 'State', 'Location', 'Shark.common.name',\n",
    "                      'Provoked/unprovoked', 'Victim.activity', 'Victim.gender', 'Shark.behaviour',\n",
    "                      'Injury.location', 'Victim.age']\n",
    "good_data = bad_data_mod[interested_columns]\n",
    "good_data"
   ],
   "metadata": {
    "collapsed": false,
    "pycharm": {
     "name": "#%%\n"
    }
   }
  },
  {
   "cell_type": "code",
   "execution_count": 11,
   "outputs": [
    {
     "data": {
      "text/plain": "['incident_month',\n 'incident_year',\n 'victim_injury',\n 'state',\n 'location',\n 'shark_common_name',\n 'provoked/unprovoked',\n 'victim_activity',\n 'victim_gender',\n 'shark_behaviour',\n 'injury_location',\n 'victim_age']"
     },
     "execution_count": 11,
     "metadata": {},
     "output_type": "execute_result"
    }
   ],
   "source": [
    "good_cols = list(good_data.columns)\n",
    "new_cols = [x.lower().replace('.', '_') for x in good_cols]\n",
    "new_cols"
   ],
   "metadata": {
    "collapsed": false,
    "pycharm": {
     "name": "#%%\n"
    }
   }
  },
  {
   "cell_type": "code",
   "execution_count": 12,
   "outputs": [
    {
     "data": {
      "text/plain": "{'Incident.month': 'incident_month',\n 'Incident.year': 'incident_year',\n 'Victim.injury': 'victim_injury',\n 'State': 'state',\n 'Location': 'location',\n 'Shark.common.name': 'shark_common_name',\n 'Provoked/unprovoked': 'provoked/unprovoked',\n 'Victim.activity': 'victim_activity',\n 'Victim.gender': 'victim_gender',\n 'Shark.behaviour': 'shark_behaviour',\n 'Injury.location': 'injury_location',\n 'Victim.age': 'victim_age'}"
     },
     "execution_count": 12,
     "metadata": {},
     "output_type": "execute_result"
    }
   ],
   "source": [
    "new_col_dict = dict(zip(good_cols, new_cols))\n",
    "new_col_dict"
   ],
   "metadata": {
    "collapsed": false,
    "pycharm": {
     "name": "#%%\n"
    }
   }
  },
  {
   "cell_type": "code",
   "execution_count": 13,
   "outputs": [
    {
     "data": {
      "text/plain": "Index(['incident_month', 'incident_year', 'victim_injury', 'state', 'location',\n       'shark_common_name', 'provoked/unprovoked', 'victim_activity',\n       'victim_gender', 'shark_behaviour', 'injury_location', 'victim_age'],\n      dtype='object')"
     },
     "execution_count": 13,
     "metadata": {},
     "output_type": "execute_result"
    }
   ],
   "source": [
    "good_data.rename(columns=new_col_dict, inplace=True)\n",
    "good_data.columns"
   ],
   "metadata": {
    "collapsed": false,
    "pycharm": {
     "name": "#%%\n"
    }
   }
  },
  {
   "cell_type": "code",
   "execution_count": 14,
   "outputs": [
    {
     "data": {
      "text/plain": "{1: 'January',\n 2: 'February',\n 3: 'March',\n 4: 'April',\n 5: 'May',\n 6: 'June',\n 7: 'July',\n 8: 'August',\n 9: 'September',\n 10: 'October',\n 11: 'November',\n 12: 'December'}"
     },
     "execution_count": 14,
     "metadata": {},
     "output_type": "execute_result"
    }
   ],
   "source": [
    "months = ['January', 'February', 'March', 'April', 'May', 'June', 'July', 'August', 'September',\n",
    "          'October', 'November', 'December']\n",
    "months_in_num = list(range(1, 13))\n",
    "\n",
    "month_map = dict(zip(months_in_num, months))\n",
    "month_map"
   ],
   "metadata": {
    "collapsed": false,
    "pycharm": {
     "name": "#%%\n"
    }
   }
  },
  {
   "cell_type": "code",
   "execution_count": 15,
   "outputs": [
    {
     "data": {
      "text/plain": "     incident_month  incident_year victim_injury               state  \\\n0           January           1791         fatal     New South Wales   \n1           January           1807       injured     New South Wales   \n2           January           1825       injured     New South Wales   \n3           January           1832       injured     New South Wales   \n4              June           1832       injured     New South Wales   \n...             ...            ...           ...                 ...   \n1191           July           2003     uninjured  Northern Territory   \n1192          April           2005       injured  Northern Territory   \n1193      September           2018       injured  Northern Territory   \n1194       November           2018       injured  Northern Territory   \n1195       February           2019       injured  Northern Territory   \n\n                                    location    shark_common_name  \\\n0                                near sydney          white shark   \n1                 cockle bay, sydney harbour           bull shark   \n2            kirribili point, sydney harbour           bull shark   \n3     blackwattle bay, glebe, sydney harbour           bull shark   \n4                 south head, sydney harbour          white shark   \n...                                      ...                  ...   \n1191               nhulunbuy, bremmer island          tiger shark   \n1192               nhulunbuy, bremmer island         whaler shark   \n1193      groote eylandt, arnhem land (east)           bull shark   \n1194                               nhulunbuy         whaler shark   \n1195            umbakumba - 12 km out to sea  whitetip reef shark   \n\n     provoked/unprovoked      victim_activity victim_gender  \\\n0             unprovoked             swimming        female   \n1             unprovoked             swimming          male   \n2             unprovoked             swimming          male   \n3               provoked             swimming          male   \n4               provoked              fishing        female   \n...                  ...                  ...           ...   \n1191          unprovoked  unmotorised boating          male   \n1192            provoked         spearfishing          male   \n1193          unprovoked                  NaN          male   \n1194            provoked         spearfishing          male   \n1195            provoked                  NaN           NaN   \n\n          shark_behaviour   injury_location  victim_age  \n0                     NaN             torso         NaN  \n1     bit victim on wrist         arm, hand         NaN  \n2                bit legs               leg        15.0  \n3       bit victim on leg               leg         NaN  \n4       bit victim on leg               leg         NaN  \n...                   ...               ...         ...  \n1191            bit kayak  other: uninjured        37.0  \n1192  bit victim on head               head        20.0  \n1193                  NaN               NaN        17.0  \n1194                  NaN          arm, leg        17.0  \n1195                  NaN               NaN         NaN  \n\n[1196 rows x 12 columns]",
      "text/html": "<div>\n<style scoped>\n    .dataframe tbody tr th:only-of-type {\n        vertical-align: middle;\n    }\n\n    .dataframe tbody tr th {\n        vertical-align: top;\n    }\n\n    .dataframe thead th {\n        text-align: right;\n    }\n</style>\n<table border=\"1\" class=\"dataframe\">\n  <thead>\n    <tr style=\"text-align: right;\">\n      <th></th>\n      <th>incident_month</th>\n      <th>incident_year</th>\n      <th>victim_injury</th>\n      <th>state</th>\n      <th>location</th>\n      <th>shark_common_name</th>\n      <th>provoked/unprovoked</th>\n      <th>victim_activity</th>\n      <th>victim_gender</th>\n      <th>shark_behaviour</th>\n      <th>injury_location</th>\n      <th>victim_age</th>\n    </tr>\n  </thead>\n  <tbody>\n    <tr>\n      <th>0</th>\n      <td>January</td>\n      <td>1791</td>\n      <td>fatal</td>\n      <td>New South Wales</td>\n      <td>near sydney</td>\n      <td>white shark</td>\n      <td>unprovoked</td>\n      <td>swimming</td>\n      <td>female</td>\n      <td>NaN</td>\n      <td>torso</td>\n      <td>NaN</td>\n    </tr>\n    <tr>\n      <th>1</th>\n      <td>January</td>\n      <td>1807</td>\n      <td>injured</td>\n      <td>New South Wales</td>\n      <td>cockle bay, sydney harbour</td>\n      <td>bull shark</td>\n      <td>unprovoked</td>\n      <td>swimming</td>\n      <td>male</td>\n      <td>bit victim on wrist</td>\n      <td>arm, hand</td>\n      <td>NaN</td>\n    </tr>\n    <tr>\n      <th>2</th>\n      <td>January</td>\n      <td>1825</td>\n      <td>injured</td>\n      <td>New South Wales</td>\n      <td>kirribili point, sydney harbour</td>\n      <td>bull shark</td>\n      <td>unprovoked</td>\n      <td>swimming</td>\n      <td>male</td>\n      <td>bit legs</td>\n      <td>leg</td>\n      <td>15.0</td>\n    </tr>\n    <tr>\n      <th>3</th>\n      <td>January</td>\n      <td>1832</td>\n      <td>injured</td>\n      <td>New South Wales</td>\n      <td>blackwattle bay, glebe, sydney harbour</td>\n      <td>bull shark</td>\n      <td>provoked</td>\n      <td>swimming</td>\n      <td>male</td>\n      <td>bit victim on leg</td>\n      <td>leg</td>\n      <td>NaN</td>\n    </tr>\n    <tr>\n      <th>4</th>\n      <td>June</td>\n      <td>1832</td>\n      <td>injured</td>\n      <td>New South Wales</td>\n      <td>south head, sydney harbour</td>\n      <td>white shark</td>\n      <td>provoked</td>\n      <td>fishing</td>\n      <td>female</td>\n      <td>bit victim on leg</td>\n      <td>leg</td>\n      <td>NaN</td>\n    </tr>\n    <tr>\n      <th>...</th>\n      <td>...</td>\n      <td>...</td>\n      <td>...</td>\n      <td>...</td>\n      <td>...</td>\n      <td>...</td>\n      <td>...</td>\n      <td>...</td>\n      <td>...</td>\n      <td>...</td>\n      <td>...</td>\n      <td>...</td>\n    </tr>\n    <tr>\n      <th>1191</th>\n      <td>July</td>\n      <td>2003</td>\n      <td>uninjured</td>\n      <td>Northern Territory</td>\n      <td>nhulunbuy, bremmer island</td>\n      <td>tiger shark</td>\n      <td>unprovoked</td>\n      <td>unmotorised boating</td>\n      <td>male</td>\n      <td>bit kayak</td>\n      <td>other: uninjured</td>\n      <td>37.0</td>\n    </tr>\n    <tr>\n      <th>1192</th>\n      <td>April</td>\n      <td>2005</td>\n      <td>injured</td>\n      <td>Northern Territory</td>\n      <td>nhulunbuy, bremmer island</td>\n      <td>whaler shark</td>\n      <td>provoked</td>\n      <td>spearfishing</td>\n      <td>male</td>\n      <td>bit victim on head</td>\n      <td>head</td>\n      <td>20.0</td>\n    </tr>\n    <tr>\n      <th>1193</th>\n      <td>September</td>\n      <td>2018</td>\n      <td>injured</td>\n      <td>Northern Territory</td>\n      <td>groote eylandt, arnhem land (east)</td>\n      <td>bull shark</td>\n      <td>unprovoked</td>\n      <td>NaN</td>\n      <td>male</td>\n      <td>NaN</td>\n      <td>NaN</td>\n      <td>17.0</td>\n    </tr>\n    <tr>\n      <th>1194</th>\n      <td>November</td>\n      <td>2018</td>\n      <td>injured</td>\n      <td>Northern Territory</td>\n      <td>nhulunbuy</td>\n      <td>whaler shark</td>\n      <td>provoked</td>\n      <td>spearfishing</td>\n      <td>male</td>\n      <td>NaN</td>\n      <td>arm, leg</td>\n      <td>17.0</td>\n    </tr>\n    <tr>\n      <th>1195</th>\n      <td>February</td>\n      <td>2019</td>\n      <td>injured</td>\n      <td>Northern Territory</td>\n      <td>umbakumba - 12 km out to sea</td>\n      <td>whitetip reef shark</td>\n      <td>provoked</td>\n      <td>NaN</td>\n      <td>NaN</td>\n      <td>NaN</td>\n      <td>NaN</td>\n      <td>NaN</td>\n    </tr>\n  </tbody>\n</table>\n<p>1196 rows × 12 columns</p>\n</div>"
     },
     "execution_count": 15,
     "metadata": {},
     "output_type": "execute_result"
    }
   ],
   "source": [
    "good_data['incident_month'] = good_data['incident_month'].map(month_map)\n",
    "good_data"
   ],
   "metadata": {
    "collapsed": false,
    "pycharm": {
     "name": "#%%\n"
    }
   }
  },
  {
   "cell_type": "code",
   "execution_count": 16,
   "outputs": [],
   "source": [
    "good_data.to_feather(\"Australian Shark Database.feather\")"
   ],
   "metadata": {
    "collapsed": false,
    "pycharm": {
     "name": "#%%\n"
    }
   }
  },
  {
   "cell_type": "code",
   "execution_count": 17,
   "outputs": [
    {
     "data": {
      "text/plain": "     incident_month  incident_year victim_injury               state  \\\n0           January           1791         fatal     New South Wales   \n1           January           1807       injured     New South Wales   \n2           January           1825       injured     New South Wales   \n3           January           1832       injured     New South Wales   \n4              June           1832       injured     New South Wales   \n...             ...            ...           ...                 ...   \n1191           July           2003     uninjured  Northern Territory   \n1192          April           2005       injured  Northern Territory   \n1193      September           2018       injured  Northern Territory   \n1194       November           2018       injured  Northern Territory   \n1195       February           2019       injured  Northern Territory   \n\n                                    location    shark_common_name  \\\n0                                near sydney          white shark   \n1                 cockle bay, sydney harbour           bull shark   \n2            kirribili point, sydney harbour           bull shark   \n3     blackwattle bay, glebe, sydney harbour           bull shark   \n4                 south head, sydney harbour          white shark   \n...                                      ...                  ...   \n1191               nhulunbuy, bremmer island          tiger shark   \n1192               nhulunbuy, bremmer island         whaler shark   \n1193      groote eylandt, arnhem land (east)           bull shark   \n1194                               nhulunbuy         whaler shark   \n1195            umbakumba - 12 km out to sea  whitetip reef shark   \n\n     provoked/unprovoked      victim_activity victim_gender  \\\n0             unprovoked             swimming        female   \n1             unprovoked             swimming          male   \n2             unprovoked             swimming          male   \n3               provoked             swimming          male   \n4               provoked              fishing        female   \n...                  ...                  ...           ...   \n1191          unprovoked  unmotorised boating          male   \n1192            provoked         spearfishing          male   \n1193          unprovoked                 None          male   \n1194            provoked         spearfishing          male   \n1195            provoked                 None          None   \n\n          shark_behaviour   injury_location  victim_age  \n0                    None             torso         NaN  \n1     bit victim on wrist         arm, hand         NaN  \n2                bit legs               leg        15.0  \n3       bit victim on leg               leg         NaN  \n4       bit victim on leg               leg         NaN  \n...                   ...               ...         ...  \n1191            bit kayak  other: uninjured        37.0  \n1192  bit victim on head               head        20.0  \n1193                 None              None        17.0  \n1194                 None          arm, leg        17.0  \n1195                 None              None         NaN  \n\n[1196 rows x 12 columns]",
      "text/html": "<div>\n<style scoped>\n    .dataframe tbody tr th:only-of-type {\n        vertical-align: middle;\n    }\n\n    .dataframe tbody tr th {\n        vertical-align: top;\n    }\n\n    .dataframe thead th {\n        text-align: right;\n    }\n</style>\n<table border=\"1\" class=\"dataframe\">\n  <thead>\n    <tr style=\"text-align: right;\">\n      <th></th>\n      <th>incident_month</th>\n      <th>incident_year</th>\n      <th>victim_injury</th>\n      <th>state</th>\n      <th>location</th>\n      <th>shark_common_name</th>\n      <th>provoked/unprovoked</th>\n      <th>victim_activity</th>\n      <th>victim_gender</th>\n      <th>shark_behaviour</th>\n      <th>injury_location</th>\n      <th>victim_age</th>\n    </tr>\n  </thead>\n  <tbody>\n    <tr>\n      <th>0</th>\n      <td>January</td>\n      <td>1791</td>\n      <td>fatal</td>\n      <td>New South Wales</td>\n      <td>near sydney</td>\n      <td>white shark</td>\n      <td>unprovoked</td>\n      <td>swimming</td>\n      <td>female</td>\n      <td>None</td>\n      <td>torso</td>\n      <td>NaN</td>\n    </tr>\n    <tr>\n      <th>1</th>\n      <td>January</td>\n      <td>1807</td>\n      <td>injured</td>\n      <td>New South Wales</td>\n      <td>cockle bay, sydney harbour</td>\n      <td>bull shark</td>\n      <td>unprovoked</td>\n      <td>swimming</td>\n      <td>male</td>\n      <td>bit victim on wrist</td>\n      <td>arm, hand</td>\n      <td>NaN</td>\n    </tr>\n    <tr>\n      <th>2</th>\n      <td>January</td>\n      <td>1825</td>\n      <td>injured</td>\n      <td>New South Wales</td>\n      <td>kirribili point, sydney harbour</td>\n      <td>bull shark</td>\n      <td>unprovoked</td>\n      <td>swimming</td>\n      <td>male</td>\n      <td>bit legs</td>\n      <td>leg</td>\n      <td>15.0</td>\n    </tr>\n    <tr>\n      <th>3</th>\n      <td>January</td>\n      <td>1832</td>\n      <td>injured</td>\n      <td>New South Wales</td>\n      <td>blackwattle bay, glebe, sydney harbour</td>\n      <td>bull shark</td>\n      <td>provoked</td>\n      <td>swimming</td>\n      <td>male</td>\n      <td>bit victim on leg</td>\n      <td>leg</td>\n      <td>NaN</td>\n    </tr>\n    <tr>\n      <th>4</th>\n      <td>June</td>\n      <td>1832</td>\n      <td>injured</td>\n      <td>New South Wales</td>\n      <td>south head, sydney harbour</td>\n      <td>white shark</td>\n      <td>provoked</td>\n      <td>fishing</td>\n      <td>female</td>\n      <td>bit victim on leg</td>\n      <td>leg</td>\n      <td>NaN</td>\n    </tr>\n    <tr>\n      <th>...</th>\n      <td>...</td>\n      <td>...</td>\n      <td>...</td>\n      <td>...</td>\n      <td>...</td>\n      <td>...</td>\n      <td>...</td>\n      <td>...</td>\n      <td>...</td>\n      <td>...</td>\n      <td>...</td>\n      <td>...</td>\n    </tr>\n    <tr>\n      <th>1191</th>\n      <td>July</td>\n      <td>2003</td>\n      <td>uninjured</td>\n      <td>Northern Territory</td>\n      <td>nhulunbuy, bremmer island</td>\n      <td>tiger shark</td>\n      <td>unprovoked</td>\n      <td>unmotorised boating</td>\n      <td>male</td>\n      <td>bit kayak</td>\n      <td>other: uninjured</td>\n      <td>37.0</td>\n    </tr>\n    <tr>\n      <th>1192</th>\n      <td>April</td>\n      <td>2005</td>\n      <td>injured</td>\n      <td>Northern Territory</td>\n      <td>nhulunbuy, bremmer island</td>\n      <td>whaler shark</td>\n      <td>provoked</td>\n      <td>spearfishing</td>\n      <td>male</td>\n      <td>bit victim on head</td>\n      <td>head</td>\n      <td>20.0</td>\n    </tr>\n    <tr>\n      <th>1193</th>\n      <td>September</td>\n      <td>2018</td>\n      <td>injured</td>\n      <td>Northern Territory</td>\n      <td>groote eylandt, arnhem land (east)</td>\n      <td>bull shark</td>\n      <td>unprovoked</td>\n      <td>None</td>\n      <td>male</td>\n      <td>None</td>\n      <td>None</td>\n      <td>17.0</td>\n    </tr>\n    <tr>\n      <th>1194</th>\n      <td>November</td>\n      <td>2018</td>\n      <td>injured</td>\n      <td>Northern Territory</td>\n      <td>nhulunbuy</td>\n      <td>whaler shark</td>\n      <td>provoked</td>\n      <td>spearfishing</td>\n      <td>male</td>\n      <td>None</td>\n      <td>arm, leg</td>\n      <td>17.0</td>\n    </tr>\n    <tr>\n      <th>1195</th>\n      <td>February</td>\n      <td>2019</td>\n      <td>injured</td>\n      <td>Northern Territory</td>\n      <td>umbakumba - 12 km out to sea</td>\n      <td>whitetip reef shark</td>\n      <td>provoked</td>\n      <td>None</td>\n      <td>None</td>\n      <td>None</td>\n      <td>None</td>\n      <td>NaN</td>\n    </tr>\n  </tbody>\n</table>\n<p>1196 rows × 12 columns</p>\n</div>"
     },
     "execution_count": 17,
     "metadata": {},
     "output_type": "execute_result"
    }
   ],
   "source": [
    "feather_df = pd.read_feather(\"Australian Shark Database.feather\")\n",
    "feather_df"
   ],
   "metadata": {
    "collapsed": false,
    "pycharm": {
     "name": "#%%\n"
    }
   }
  },
  {
   "cell_type": "code",
   "execution_count": 18,
   "outputs": [
    {
     "data": {
      "text/plain": "swimming                    452\nboarding                    284\nsnorkelling                 127\nspearfishing                118\ndiving                       93\nfishing                      37\nunmotorised boating          31\nother: standing in water     25\nmotorised boating             2\nother:floating                2\nName: victim_activity, dtype: int64"
     },
     "execution_count": 18,
     "metadata": {},
     "output_type": "execute_result"
    }
   ],
   "source": [
    "feather_df.victim_activity.value_counts()"
   ],
   "metadata": {
    "collapsed": false,
    "pycharm": {
     "name": "#%%\n"
    }
   }
  },
  {
   "cell_type": "code",
   "execution_count": 19,
   "outputs": [
    {
     "data": {
      "text/plain": "       incident_year  victim_age\ncount    1196.000000  699.000000\nmean     1966.895485   28.164521\nstd        48.260971   13.794858\nmin      1791.000000    0.000000\n25%      1931.000000   17.000000\n50%      1983.000000   25.000000\n75%      2010.000000   36.000000\nmax      2022.000000   84.000000",
      "text/html": "<div>\n<style scoped>\n    .dataframe tbody tr th:only-of-type {\n        vertical-align: middle;\n    }\n\n    .dataframe tbody tr th {\n        vertical-align: top;\n    }\n\n    .dataframe thead th {\n        text-align: right;\n    }\n</style>\n<table border=\"1\" class=\"dataframe\">\n  <thead>\n    <tr style=\"text-align: right;\">\n      <th></th>\n      <th>incident_year</th>\n      <th>victim_age</th>\n    </tr>\n  </thead>\n  <tbody>\n    <tr>\n      <th>count</th>\n      <td>1196.000000</td>\n      <td>699.000000</td>\n    </tr>\n    <tr>\n      <th>mean</th>\n      <td>1966.895485</td>\n      <td>28.164521</td>\n    </tr>\n    <tr>\n      <th>std</th>\n      <td>48.260971</td>\n      <td>13.794858</td>\n    </tr>\n    <tr>\n      <th>min</th>\n      <td>1791.000000</td>\n      <td>0.000000</td>\n    </tr>\n    <tr>\n      <th>25%</th>\n      <td>1931.000000</td>\n      <td>17.000000</td>\n    </tr>\n    <tr>\n      <th>50%</th>\n      <td>1983.000000</td>\n      <td>25.000000</td>\n    </tr>\n    <tr>\n      <th>75%</th>\n      <td>2010.000000</td>\n      <td>36.000000</td>\n    </tr>\n    <tr>\n      <th>max</th>\n      <td>2022.000000</td>\n      <td>84.000000</td>\n    </tr>\n  </tbody>\n</table>\n</div>"
     },
     "execution_count": 19,
     "metadata": {},
     "output_type": "execute_result"
    }
   ],
   "source": [
    "feather_df.describe()"
   ],
   "metadata": {
    "collapsed": false,
    "pycharm": {
     "name": "#%%\n"
    }
   }
  },
  {
   "cell_type": "markdown",
   "source": [
    "From the above result, we can easily say that"
   ],
   "metadata": {
    "collapsed": false,
    "pycharm": {
     "name": "#%% md\n"
    }
   }
  },
  {
   "cell_type": "code",
   "execution_count": 20,
   "outputs": [
    {
     "data": {
      "text/plain": "       incident_month victim_injury            state  \\\ncount            1196          1196             1196   \nunique             12             4                7   \ntop           January       injured  New South Wales   \nfreq              223           722              438   \n\n                             location shark_common_name provoked/unprovoked  \\\ncount                            1193              1144                1192   \nunique                            909                22                   2   \ntop     thursday island, torre strait       white shark          unprovoked   \nfreq                               20               361                 794   \n\n       victim_activity victim_gender    shark_behaviour injury_location  \ncount             1171          1179                980            1066  \nunique              10             2                271              63  \ntop           swimming          male  bit victim on leg             leg  \nfreq               452          1062                241             213  ",
      "text/html": "<div>\n<style scoped>\n    .dataframe tbody tr th:only-of-type {\n        vertical-align: middle;\n    }\n\n    .dataframe tbody tr th {\n        vertical-align: top;\n    }\n\n    .dataframe thead th {\n        text-align: right;\n    }\n</style>\n<table border=\"1\" class=\"dataframe\">\n  <thead>\n    <tr style=\"text-align: right;\">\n      <th></th>\n      <th>incident_month</th>\n      <th>victim_injury</th>\n      <th>state</th>\n      <th>location</th>\n      <th>shark_common_name</th>\n      <th>provoked/unprovoked</th>\n      <th>victim_activity</th>\n      <th>victim_gender</th>\n      <th>shark_behaviour</th>\n      <th>injury_location</th>\n    </tr>\n  </thead>\n  <tbody>\n    <tr>\n      <th>count</th>\n      <td>1196</td>\n      <td>1196</td>\n      <td>1196</td>\n      <td>1193</td>\n      <td>1144</td>\n      <td>1192</td>\n      <td>1171</td>\n      <td>1179</td>\n      <td>980</td>\n      <td>1066</td>\n    </tr>\n    <tr>\n      <th>unique</th>\n      <td>12</td>\n      <td>4</td>\n      <td>7</td>\n      <td>909</td>\n      <td>22</td>\n      <td>2</td>\n      <td>10</td>\n      <td>2</td>\n      <td>271</td>\n      <td>63</td>\n    </tr>\n    <tr>\n      <th>top</th>\n      <td>January</td>\n      <td>injured</td>\n      <td>New South Wales</td>\n      <td>thursday island, torre strait</td>\n      <td>white shark</td>\n      <td>unprovoked</td>\n      <td>swimming</td>\n      <td>male</td>\n      <td>bit victim on leg</td>\n      <td>leg</td>\n    </tr>\n    <tr>\n      <th>freq</th>\n      <td>223</td>\n      <td>722</td>\n      <td>438</td>\n      <td>20</td>\n      <td>361</td>\n      <td>794</td>\n      <td>452</td>\n      <td>1062</td>\n      <td>241</td>\n      <td>213</td>\n    </tr>\n  </tbody>\n</table>\n</div>"
     },
     "execution_count": 20,
     "metadata": {},
     "output_type": "execute_result"
    }
   ],
   "source": [
    "feather_df.describe(include='object')"
   ],
   "metadata": {
    "collapsed": false,
    "pycharm": {
     "name": "#%%\n"
    }
   }
  }
 ],
 "metadata": {
  "kernelspec": {
   "display_name": "Python 3",
   "language": "python",
   "name": "python3"
  },
  "language_info": {
   "codemirror_mode": {
    "name": "ipython",
    "version": 2
   },
   "file_extension": ".py",
   "mimetype": "text/x-python",
   "name": "python",
   "nbconvert_exporter": "python",
   "pygments_lexer": "ipython2",
   "version": "2.7.6"
  }
 },
 "nbformat": 4,
 "nbformat_minor": 0
}